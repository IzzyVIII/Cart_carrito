{
 "cells": [
  {
   "cell_type": "markdown",
   "metadata": {},
   "source": [
    "# Dictionaries & Sets"
   ]
  },
  {
   "cell_type": "markdown",
   "metadata": {},
   "source": [
    "## Tasks Today:\n",
    "\n",
    "1) Dictionary <br>\n",
    " &nbsp;&nbsp;&nbsp;&nbsp; a) Declaring (key, value) <br>\n",
    " &nbsp;&nbsp;&nbsp;&nbsp; b) Accessing Values <br>\n",
    " &nbsp;&nbsp;&nbsp;&nbsp; ------ Exercise #1 - Print the eye color of each person in a double nested dict <br>\n",
    " &nbsp;&nbsp;&nbsp;&nbsp; c) Adding New Pairs <br>\n",
    " &nbsp;&nbsp;&nbsp;&nbsp; d) Modifying Values <br>\n",
    " &nbsp;&nbsp;&nbsp;&nbsp; e) Removing Key, Value Pairs <br>\n",
    " &nbsp;&nbsp;&nbsp;&nbsp; f) Looping a Dictionary <br>\n",
    " &nbsp;&nbsp;&nbsp;&nbsp; g) Looping Only Keys <br>\n",
    " &nbsp;&nbsp;&nbsp;&nbsp; h) Looping Only Values <br>\n",
    " &nbsp;&nbsp;&nbsp;&nbsp; ------ Exercise #2 - Create a Function that Prints All Key Value Pairs within a print .format()  <br>\n",
    " &nbsp;&nbsp;&nbsp;&nbsp; i) sorted() <br>\n",
    " &nbsp;&nbsp;&nbsp;&nbsp; j) Lists with Dictionaries <br>\n",
    " &nbsp;&nbsp;&nbsp;&nbsp; k) Dictionaries with Lists <br>\n",
    " &nbsp;&nbsp;&nbsp;&nbsp; l) Dictionaries with Dictionaries <br>\n",
    " &nbsp;&nbsp;&nbsp;&nbsp; ------ Exercise #3 - Write a Function that asks someone's name and address, and then stores that into a dictionary, which prints all names and addresses after they're done putting information in...  <br>\n",
    "2) Dictionaries vs. Lists (over time)<br>\n",
    "3) Set <br>\n",
    " &nbsp;&nbsp;&nbsp;&nbsp; a) Declaring <br>\n",
    " &nbsp;&nbsp;&nbsp;&nbsp; b) .add() <br>\n",
    " &nbsp;&nbsp;&nbsp;&nbsp; c) .remove() <br>\n",
    " &nbsp;&nbsp;&nbsp;&nbsp; d) .union() <br>\n",
    " &nbsp;&nbsp;&nbsp;&nbsp; e) .intersection() <br>\n",
    " &nbsp;&nbsp;&nbsp;&nbsp; f) .difference() <br>\n",
    " &nbsp;&nbsp;&nbsp;&nbsp; g) Frozen Set <br>\n",
    "4) Modules <br>\n",
    " &nbsp;&nbsp;&nbsp;&nbsp; a) Importing Entire Modules <br>\n",
    " &nbsp;&nbsp;&nbsp;&nbsp; b) Importing Methods Only <br>\n",
    " &nbsp;&nbsp;&nbsp;&nbsp; c) Using the 'as' Keyword <br>\n",
    " &nbsp;&nbsp;&nbsp;&nbsp; d) Creating a Module <br>\n",
    "5) Exercises <br>\n",
    " &nbsp;&nbsp;&nbsp;&nbsp; a) Build a Shopping Cart <br>\n",
    " &nbsp;&nbsp;&nbsp;&nbsp; b) Create Your Own Module <br>"
   ]
  },
  {
   "cell_type": "markdown",
   "metadata": {},
   "source": [
    "## Dictionary <br>\n",
    "<p>A collection of data with 'key:value' pairs. Dictionaries are ordered as of Python 3.6</p>"
   ]
  },
  {
   "cell_type": "markdown",
   "metadata": {},
   "source": [
    "##### Declaring (key, value)"
   ]
  },
  {
   "cell_type": "code",
   "execution_count": 1,
   "metadata": {},
   "outputs": [
    {
     "name": "stdout",
     "output_type": "stream",
     "text": [
      "{}\n",
      "{}\n",
      "{'Tom': '123 Winona St', 'Jerry': '125 Winona St', 0: 'This is a 0'}\n"
     ]
    }
   ],
   "source": [
    "# keys should be unique\n",
    "# can use numbers or strings as keys\n",
    "d_1 = {}\n",
    "print(d_1)\n",
    "\n",
    "# or\n",
    "\n",
    "d_2 = dict()\n",
    "print(d_2)\n",
    "\n",
    "# declaring a dictionary with key, value pairs\n",
    "d_3 = {\n",
    "    \"Tom\": \"123 Winona St\",    # Key: \"Tom\"        Value: \"123 Winona St\"\n",
    "    \"Jerry\": \"125 Winona St\",  # Key: \"Jerry\"      Value: \"125 Winona St\"\n",
    "    0: \"This is a 0\"           # Key: 0            Value: \"This is a 0\"\n",
    "}\n",
    "print(d_3)"
   ]
  },
  {
   "cell_type": "markdown",
   "metadata": {},
   "source": [
    "##### Accessing Values"
   ]
  },
  {
   "cell_type": "code",
   "execution_count": 2,
   "metadata": {},
   "outputs": [
    {
     "name": "stdout",
     "output_type": "stream",
     "text": [
      "123 Winona St\n",
      "125 Winona St\n",
      "This is a 0\n"
     ]
    }
   ],
   "source": [
    "# dict[key]\n",
    "d_3 = {\n",
    "    \"Tom\": \"123 Winona St\",    \n",
    "    \"Jerry\": \"125 Winona St\",\n",
    "    0: \"This is a 0\"\n",
    "}\n",
    "print(d_3[\"Tom\"])\n",
    "print(d_3[\"Jerry\"])\n",
    "print(d_3[0])"
   ]
  },
  {
   "cell_type": "code",
   "execution_count": 3,
   "metadata": {},
   "outputs": [
    {
     "name": "stdout",
     "output_type": "stream",
     "text": [
      "123 Winona St\n",
      "This is a 0\n",
      "125 Winona St\n",
      "127 Winona St\n",
      "None\n"
     ]
    }
   ],
   "source": [
    "#dict.get(key, value)\n",
    "address = d_3.get(\"Tom\")\n",
    "print(address)\n",
    "\n",
    "value = d_3.get(0)\n",
    "print(value)\n",
    "\n",
    "address = d_3.get(\"Jerry\")\n",
    "print(address)\n",
    "\n",
    "# does not add to dictionary, but will return the value instead of none if the key is not found\n",
    "new_entry = d_3.get(\"Spike\", \"127 Winona St\")   # this is returning the value because Key & Value are given\n",
    "print(new_entry)\n",
    "\n",
    "new_entry1 = d_3.get(\"Nibbles\")                 # this returns NONE because key is not found & no value given\n",
    "print(new_entry1)"
   ]
  },
  {
   "cell_type": "code",
   "execution_count": 4,
   "metadata": {},
   "outputs": [
    {
     "name": "stdout",
     "output_type": "stream",
     "text": [
      "My go to drink in Starbucks is a 16 oz caramel machiato.\n",
      "12 oz\n",
      "16 oz\n",
      "20 oz\n"
     ]
    }
   ],
   "source": [
    "drink_sizes = {\n",
    "    \"Tall\": \"12 oz\",      # Don't forget the , at the end of the value\n",
    "    \"Grande\": \"16 oz\",\n",
    "    \"Venti\": \"20 oz\"      # No , needed after last value listed\n",
    "}\n",
    "                                        # dictionary  # key\n",
    "print(f'My go to drink in Starbucks is a {drink_sizes[\"Grande\"]} caramel machiato.')\n",
    "\n",
    "print(drink_sizes[\"Tall\"])\n",
    "print(drink_sizes[\"Grande\"])\n",
    "print(drink_sizes[\"Venti\"])"
   ]
  },
  {
   "cell_type": "markdown",
   "metadata": {},
   "source": [
    "## In-Class Exercise #1 - Print a formatted statement from the dictionary below <br>\n",
    "<p>The output should be '2018 Chevrolet Silverado'</p>"
   ]
  },
  {
   "cell_type": "code",
   "execution_count": 5,
   "metadata": {},
   "outputs": [
    {
     "name": "stdout",
     "output_type": "stream",
     "text": [
      "2018 Chevrolet Silverado\n",
      "2018 Chevrolet Silverado\n",
      "2018 Chevrolet Silverado\n"
     ]
    }
   ],
   "source": [
    "# use the dict below\n",
    "truck = {\n",
    "    \"year\": 2018,\n",
    "    'make': 'Chevrolet',\n",
    "    'model': 'Silverado'\n",
    "}\n",
    "print(f'{truck[\"year\"]} {truck[\"make\"]} {truck[\"model\"]}')\n",
    "# OR\n",
    "print(truck[\"year\"], truck[\"make\"], truck[\"model\"])   # BEST option!!!!!!!!\n",
    "# OR\n",
    "print(truck.get(\"year\"), truck.get(\"make\"), truck.get(\"model\"))"
   ]
  },
  {
   "cell_type": "markdown",
   "metadata": {},
   "source": [
    "##### Adding New Pairs"
   ]
  },
  {
   "cell_type": "code",
   "execution_count": 6,
   "metadata": {},
   "outputs": [
    {
     "name": "stdout",
     "output_type": "stream",
     "text": [
      "{'Tom': '123 Winona St', 'Jerry': '125 Winona St', 0: 'This is a 0'}\n",
      "{'Tom': '123 Winona St', 'Jerry': '125 Winona St', 0: 'This is a 0', 'Spike': '127 Winona St'}\n",
      "{'Tom': '123 Winona St', 'Jerry': '125 Winona St', 0: 'This is a 0', 'Spike': '127 Winona St', 'Tyke': '129 Winona St'}\n",
      "{'Tom': '123 Winona St', 'Jerry': '125 Winona St', 0: 'This is a 0', 'Spike': '127 Winona St', 'Tyke': '129 Winona St', 1: 'This is a 1'}\n"
     ]
    }
   ],
   "source": [
    "# dict[key] = value\n",
    "# keys in a dictionary NEED TO BE UNIQUE\n",
    "d_3 = {\n",
    "    \"Tom\": \"123 Winona St\",    \n",
    "    \"Jerry\": \"125 Winona St\",\n",
    "    0: \"This is a 0\"\n",
    "}\n",
    "print(d_3)                       # Original before adding new key & value\n",
    "\n",
    "d_3[\"Spike\"] = \"127 Winona St\"   # After adding new key & value\n",
    "print(d_3)\n",
    "\n",
    "d_3[\"Tyke\"] = \"129 Winona St\"\n",
    "print(d_3)\n",
    "\n",
    "d_3[1] = \"This is a 1\"\n",
    "print(d_3)"
   ]
  },
  {
   "cell_type": "markdown",
   "metadata": {},
   "source": [
    "##### Modifying Values"
   ]
  },
  {
   "cell_type": "code",
   "execution_count": 7,
   "metadata": {},
   "outputs": [
    {
     "name": "stdout",
     "output_type": "stream",
     "text": [
      "127 Winona St\n",
      "{'Tom': '123 Winona St', 'Jerry': '125 Winona St', 0: 'This is a 0', 'Spike': '127 Winona St', 'Tyke': '100 Foster Ave', 1: 'This is a 1'}\n",
      "\n",
      "\n",
      "{'Tom': '101 Foster Ave', 'Jerry': '101 Foster Ave', 0: 'This is a 0', 'Spike': '127 Winona St', 'Tyke': '100 Foster Ave', 1: 'This is a 1'}\n"
     ]
    }
   ],
   "source": [
    "# dict[key] = value\n",
    "# looks exactly the same as adding values\n",
    "# the only difference is the key already exists in the dictionary\n",
    "# dict[key] give us a value in the dictionary\n",
    "\n",
    "# setting a variable to a value in a dictionary\n",
    "dog_address = d_3[\"Spike\"]    # variable: dog_address value: 127 Winona St (accessed by calling Spike in d_3)\n",
    "print(dog_address)\n",
    "\n",
    "d_3[\"Tyke\"] = \"100 Foster Ave\"   # modified original value of: 129 Winona St   to: 100 Foster Ave\n",
    "print(d_3)\n",
    "\n",
    "print('\\n')\n",
    "      \n",
    "d_3[\"Tom\"] = \"101 Foster Ave\"\n",
    "d_3[\"Jerry\"] = \"101 Foster Ave\"\n",
    "print(d_3)\n",
    "\n"
   ]
  },
  {
   "cell_type": "markdown",
   "metadata": {},
   "source": [
    "##### Removing Key, Value Pairs"
   ]
  },
  {
   "cell_type": "code",
   "execution_count": 8,
   "metadata": {
    "scrolled": true
   },
   "outputs": [
    {
     "name": "stdout",
     "output_type": "stream",
     "text": [
      "{'Tom': '101 Foster Ave', 'Jerry': '101 Foster Ave', 0: 'This is a 0', 'Spike': '127 Winona St', 'Tyke': '100 Foster Ave', 1: 'This is a 1'}\n",
      "{'Tom': '101 Foster Ave', 'Jerry': '101 Foster Ave', 'Spike': '127 Winona St', 'Tyke': '100 Foster Ave', 1: 'This is a 1'}\n",
      "{'Tom': '101 Foster Ave', 'Jerry': '101 Foster Ave', 'Spike': '127 Winona St', 'Tyke': '100 Foster Ave'}\n"
     ]
    }
   ],
   "source": [
    "# del dict[key]\n",
    "print(d_3)     # original before deleting\n",
    "\n",
    "del d_3[0]\n",
    "print(d_3)\n",
    "\n",
    "del d_3[1]\n",
    "print(d_3)"
   ]
  },
  {
   "cell_type": "code",
   "execution_count": 9,
   "metadata": {},
   "outputs": [
    {
     "name": "stdout",
     "output_type": "stream",
     "text": [
      "That key does not exist. Please try again.\n"
     ]
    }
   ],
   "source": [
    "if \"Bugs Bunny\" in d_3:\n",
    "    del d_3[\"Bugs Bunny\"]\n",
    "else:\n",
    "    print(\"That key does not exist. Please try again.\")"
   ]
  },
  {
   "cell_type": "markdown",
   "metadata": {},
   "source": [
    "##### Looping a Dictionary"
   ]
  },
  {
   "cell_type": "code",
   "execution_count": 14,
   "metadata": {
    "scrolled": false
   },
   "outputs": [
    {
     "name": "stdout",
     "output_type": "stream",
     "text": [
      "{'Tom': '101 Foster Ave', 'Jerry': '101 Foster Ave', 'Spike': '127 Winona St', 'Tyke': '100 Foster Ave'}\n",
      "\n",
      "\n",
      "dict_items([('Tom', '101 Foster Ave'), ('Jerry', '101 Foster Ave'), ('Spike', '127 Winona St'), ('Tyke', '100 Foster Ave')])\n",
      "\n",
      "\n",
      "Tom 101 Foster Ave\n",
      "Jerry 101 Foster Ave\n",
      "Spike 127 Winona St\n",
      "Tyke 100 Foster Ave\n",
      "\n",
      "\n",
      "Tom\n",
      "Jerry\n"
     ]
    }
   ],
   "source": [
    "# .items()\n",
    "# a, b, c = 1, 2, 3\n",
    "# gives us a list of tuples. The tuples hold the key and value\n",
    "print(d_3)\n",
    "\n",
    "print(\"\\n\")\n",
    "\n",
    "d_3new = d_3.items()\n",
    "print(d_3new)\n",
    "\n",
    "print(\"\\n\")\n",
    "\n",
    "for k, v in d_3.items():     # key: k  value: v\n",
    "    print(k,v)\n",
    "    \n",
    "print(\"\\n\")\n",
    "\n",
    "# referncing a key from the value\n",
    "for k, v in d_3.items():\n",
    "    if v == \"101 Foster Ave\":\n",
    "        print(k)"
   ]
  },
  {
   "cell_type": "code",
   "execution_count": 17,
   "metadata": {},
   "outputs": [
    {
     "name": "stdout",
     "output_type": "stream",
     "text": [
      "Tom lives at 101 Foster Ave\n",
      "Jerry lives at 101 Foster Ave\n",
      "Spike lives at 127 Winona St\n",
      "Tyke lives at 100 Foster Ave\n"
     ]
    }
   ],
   "source": [
    "for name, address in d_3.items():     # key: name  value: address\n",
    "    print(f'{name} lives at {address}')"
   ]
  },
  {
   "cell_type": "markdown",
   "metadata": {},
   "source": [
    "##### Looping Only Keys"
   ]
  },
  {
   "cell_type": "code",
   "execution_count": 19,
   "metadata": {},
   "outputs": [
    {
     "name": "stdout",
     "output_type": "stream",
     "text": [
      "dict_keys(['Tom', 'Jerry', 'Spike', 'Tyke'])\n",
      "Tom\n",
      "Jerry\n",
      "Spike\n",
      "Tyke\n"
     ]
    }
   ],
   "source": [
    "# .keys()\n",
    "d_3keys = d_3.keys()\n",
    "print(d_3keys)\n",
    "\n",
    "for k in d_3keys:\n",
    "    print(k)"
   ]
  },
  {
   "cell_type": "markdown",
   "metadata": {},
   "source": [
    "##### Looping Only Values"
   ]
  },
  {
   "cell_type": "code",
   "execution_count": 22,
   "metadata": {
    "scrolled": true
   },
   "outputs": [
    {
     "name": "stdout",
     "output_type": "stream",
     "text": [
      "dict_values(['101 Foster Ave', '101 Foster Ave', '127 Winona St', '100 Foster Ave'])\n",
      "\n",
      "\n",
      "101 Foster Ave\n",
      "101 Foster Ave\n",
      "127 Winona St\n",
      "100 Foster Ave\n"
     ]
    }
   ],
   "source": [
    "# .values()\n",
    "d_3values = d_3.values()\n",
    "print(d_3values)\n",
    "\n",
    "print(\"\\n\")\n",
    "\n",
    "for v in d_3.values():\n",
    "    print(v)"
   ]
  },
  {
   "cell_type": "markdown",
   "metadata": {},
   "source": [
    "## In-Class Exercise #2 - Create a Program that Prints All Key Value Pairs within a formatted string\n",
    "Output should be:\n",
    "Max has blue eyes\n",
    "Lilly has brown eyes\n",
    "Barney has blue eyes\n",
    "etc."
   ]
  },
  {
   "cell_type": "code",
   "execution_count": 31,
   "metadata": {
    "scrolled": false
   },
   "outputs": [
    {
     "name": "stdout",
     "output_type": "stream",
     "text": [
      "Max has blue eyes.\n",
      "Lilly has brown eyes.\n",
      "Barney has green eyes.\n",
      "Ted has purple eyes.\n",
      "Sasuke has sharingan eyes.\n"
     ]
    }
   ],
   "source": [
    "# use the dict below\n",
    "people = {\n",
    "    'Max' : 'blue',\n",
    "    'Lilly' : 'brown',\n",
    "    'Barney' : 'green',\n",
    "    'Ted' : 'purple',\n",
    "    'Sasuke' : 'sharingan'    \n",
    "} \n",
    "\n",
    "for name, eye_color in people.items():\n",
    "    print(f'{name} has {eye_color} eyes.')"
   ]
  },
  {
   "cell_type": "code",
   "execution_count": 32,
   "metadata": {},
   "outputs": [
    {
     "name": "stdout",
     "output_type": "stream",
     "text": [
      "('Max', 'Blue')\n",
      "('Lilly', 'Brown')\n",
      "('Barney', 'Green')\n",
      "\n",
      "\n",
      "Max Blue\n",
      "Lilly Brown\n",
      "Barney Green\n",
      "\n",
      "\n",
      "Max has Blue eyes\n",
      "Lilly has Brown eyes\n",
      "Barney has Green eyes\n"
     ]
    }
   ],
   "source": [
    "name_eyes = [(\"Max\", \"Blue\"), (\"Lilly\", \"Brown\"), (\"Barney\", \"Green\")]\n",
    "\n",
    "for group in name_eyes:\n",
    "    print(group)\n",
    "    \n",
    "print(\"\\n\")\n",
    "\n",
    "for name, color in name_eyes:\n",
    "    print(name, color)\n",
    "\n",
    "print(\"\\n\")\n",
    "    \n",
    "for name, color in name_eyes:\n",
    "    print(f\"{name} has {color} eyes\")"
   ]
  },
  {
   "cell_type": "markdown",
   "metadata": {},
   "source": [
    "##### sorted()"
   ]
  },
  {
   "cell_type": "code",
   "execution_count": 33,
   "metadata": {},
   "outputs": [
    {
     "name": "stdout",
     "output_type": "stream",
     "text": [
      "Values ['blue', 'brown', 'green', 'purple', 'sharingan']\n",
      "Keys ['Barney', 'Lilly', 'Max', 'Sasuke', 'Ted']\n",
      "Items [('Barney', 'green'), ('Lilly', 'brown'), ('Max', 'blue'), ('Sasuke', 'sharingan'), ('Ted', 'purple')]\n",
      "[('Barney', 'green'), ('Lilly', 'brown'), ('Max', 'blue'), ('Sasuke', 'sharingan'), ('Ted', 'purple')]\n",
      "['Barney', 'Lilly', 'Max', 'Sasuke', 'Ted']\n"
     ]
    }
   ],
   "source": [
    "# sorts variables in order\n",
    "# sorted(dict.values()) or dict.keys() or dict.items()\n",
    "\n",
    "people = {\n",
    "    'Max' : 'blue',\n",
    "    'Lilly' : 'brown',\n",
    "    'Barney' : 'green',\n",
    "    'Ted' : 'purple',\n",
    "    'Sasuke' : 'sharingan'    \n",
    "} \n",
    "\n",
    "print(\"Values\", sorted(people.values()))\n",
    "print(\"Keys\", sorted(people.keys()))\n",
    "print(\"Items\", sorted(people.items()))\n",
    "\n",
    "sorted_items = sorted(people.items())\n",
    "print(sorted_items)\n",
    "\n",
    "print(sorted(people))"
   ]
  },
  {
   "cell_type": "markdown",
   "metadata": {},
   "source": [
    "##### List with Dictionaries"
   ]
  },
  {
   "cell_type": "code",
   "execution_count": 34,
   "metadata": {},
   "outputs": [
    {
     "name": "stdout",
     "output_type": "stream",
     "text": [
      "shikamaru\n",
      "Gaara\n",
      "OctoPops\n",
      "\n",
      "\n",
      "shikamaru\n",
      "Gaara\n"
     ]
    }
   ],
   "source": [
    "shinobi = [\"shikamaru\", \"Gaara\", \"OctoPops\"]\n",
    "for name in shinobi:\n",
    "    print(name)\n",
    "print(\"\\n\")\n",
    "print(shinobi[0])\n",
    "print(shinobi[1])"
   ]
  },
  {
   "cell_type": "code",
   "execution_count": 35,
   "metadata": {},
   "outputs": [
    {
     "name": "stdout",
     "output_type": "stream",
     "text": [
      "Shikamaru\n",
      "Gaara\n",
      "OctoPops\n",
      "{'leaf_village': 'Naruto', 'leaf_village2': 'Kakashi'}\n",
      "\n",
      "\n",
      "{'leaf_village': 'Naruto', 'leaf_village2': 'Kakashi'}\n",
      "{'leaf_village': 'Naruto', 'leaf_village2': 'Kakashi'}\n",
      "Kakashi\n",
      "Kakashi\n",
      "Kakashi\n",
      "Naruto\n"
     ]
    }
   ],
   "source": [
    "#              0            1        2                                   3 \n",
    "shinobi = [\"Shikamaru\", \"Gaara\", \"OctoPops\", {\"leaf_village\": \"Naruto\", \"leaf_village2\": \"Kakashi\"}]\n",
    "\n",
    "for name in shinobi:\n",
    "    print(name)\n",
    "    \n",
    "print(\"\\n\")\n",
    "\n",
    "print(shinobi[3])\n",
    "\n",
    "print(shinobi[3])\n",
    "\n",
    "my_shinobi = shinobi[3]\n",
    "\n",
    "print(my_shinobi[\"leaf_village2\"])\n",
    "\n",
    "print(shinobi[3]['leaf_village2'])\n",
    "print(shinobi[-1]['leaf_village2'])\n",
    "\n",
    "shinobi_dict = {\"leaf_village\": \"Naruto\", \"leaf_village2\": \"Kakashi\"}\n",
    "\n",
    "print(shinobi_dict[\"leaf_village\"])"
   ]
  },
  {
   "cell_type": "markdown",
   "metadata": {},
   "source": [
    "##### Dictionaries with Lists"
   ]
  },
  {
   "cell_type": "code",
   "execution_count": null,
   "metadata": {},
   "outputs": [],
   "source": [
    "# be careful when using numbers as keys in dictionaries, don't confuse them with indexes\n",
    "some_data = {\n",
    "    \"list_1\": [54, 65, 90],\n",
    "    \"names\": [\"John\", \"Laura\", \"Bulbasaur\"]\n",
    "}\n",
    "\n",
    "print(some_data[\"names\"][-1])\n",
    "print(some_data[\"list_1\"][1])\n",
    "\n",
    "for name in some_data[\"names\"]:\n",
    "    print(name)"
   ]
  },
  {
   "cell_type": "markdown",
   "metadata": {},
   "source": [
    "##### Dictionaries with Dictionaries"
   ]
  },
  {
   "cell_type": "code",
   "execution_count": null,
   "metadata": {
    "scrolled": true
   },
   "outputs": [],
   "source": [
    "# to get values, must traverse through keys\n",
    "food_dict = {\n",
    "    \"Ryan\": {\n",
    "    \"Mexican\": [\"Tacos\", \"Tortas\", \"Conchas\"],\n",
    "    \"Desserts\": [\"Cheesecake\", \"Pie\", \"Chocolate Chip Cookies\", \"Cupcakes\"]\n",
    "    },\n",
    "    \"Javier\": {\n",
    "    \"Dominican\": [\"Mango\", \"PassionFruit\", \"Flan\"],\n",
    "    \"American\": [\"Chicken\", \"Gravy\", \"Mashed Potatos\"]\n",
    "    },\n",
    "    \"Miguel\": {\n",
    "    \"Vegan\": [\"Beans\", \"Fruits\", \"Vegetables\"],\n",
    "    \"Desserts\": [\"peanuts\", \"cookies\", \"popcorn\", \"soda\"]\n",
    "    },\n",
    "    \"Grace\": {\n",
    "    \"Indian Food\" : [\"Palak Paneer\", \"Naan\", \"Chana Masala\"],\n",
    "    \"Desserts\" : [\"Lemon Bars\", \"Cheesecake\", \"Pies\"]\n",
    "    },\n",
    "    \"Anthony\":{\n",
    "    \"Spanish\":[\"Tacos\",\"Mofongo\", \"Papusas\"],\n",
    "    \"Desserts\":[\"Cheescake\", \"Flan\", \"Oreos\", \"M&Ms\"]\n",
    "    },\n",
    "    \"Bikram\" :  {\n",
    "    \"Food\":[\"Pasta\", \"Fried Chicken\" , \"Rice\"],\n",
    "        \"Desserts\":[\"Chocolate Cake\" ,\"Ice Cream\" \"Dunots\"]  \n",
    "},\n",
    "    \"Juan\": {\n",
    "    \"Mexican Seafood\": [\"Langostinos\", \"Ceviche\", \"Chapuzon\"],\n",
    "    \"Desserts\": [\"Cheesecake\", \"Flan\", \"Brownies\"]\n",
    "},\n",
    "    \"Connor\":{\n",
    "    \"Pasta\": [\"penne\", \"spagetti\",\"farfelle\"],\n",
    "    \"Pizza\" : [\"Chicago Style pizza\", \"Detroit Style Pizza (best pizza)\", \"New York Pizza\"],\n",
    "    \"Cake\": [\"Cheesecake (best)\", \"Carrot Cake\", \"Chocholate Pican Cake\"]\n",
    "},\n",
    "    \"Justin\": {\n",
    "    \"Vietnamese\" : [\"Pho\", \"Banh Mi\", \"Bun Bo Hue\"],\n",
    "    \"Fruits\" : [\"Apple\", \"Pear\", \"Grapes\", \"Jackfruit\"]\n",
    "},\n",
    "    \"Claudel\": {\"Haitian\": [\"kalalou\", \"tchaka\", \"bouton\"],\n",
    "                  \"desert\": [\"kremas\", \"bonbonsiwo\", \"dousmakos\"]\n",
    "               },\n",
    "    \"Andres\": {\n",
    "        \"Italian\": [\"Pasta\", \"Raviolis\", \"Pizza\"],\n",
    "        \"Desserts\": [\"Ice cream\", \"Cookies\", \"Brownies\", \"Waffle\"]\n",
    "},\n",
    "    \"Berik\": {\n",
    "    \"Kazakh\": [\"Beshbarmak\", \"Kuyrdak\", \"Kebab\"],\n",
    "    \"Deserts\" : [\"Kaymak\", \"Medovik\", \"Tort\"]},\n",
    "    \"Wil\" : {\n",
    "    \"beef\": [\"tacos\",\"torta\",\"queso\"],\n",
    "    \"eggs\": [\"over_easy\",\"over_less_easy\",\"with_queso\"]},\n",
    "    \"Dez\": {\n",
    "        \"Korean\" : ['Bibimbop', 'Kimchi', 'Samgyeopsa', 'Tteokbokki', 'Bulgogi']\n",
    "    },\n",
    "    \"Kym\": {\n",
    "    \"Asian\": [\"Ramen\", \"Sushi\", \"Fried Noodles\"],\n",
    "    \"Desserts\": [\"Dark_chocalate\", \"Ice cream\",\"honeycake\"]}, \n",
    "\n",
    "}\n",
    "\n",
    "# looping through the keys in food_dict\n",
    "for person in food_dict: #food_dict.keys() is the same as looping through food_dict\n",
    "    print(person)"
   ]
  },
  {
   "cell_type": "code",
   "execution_count": null,
   "metadata": {},
   "outputs": [],
   "source": [
    "for foods in food_dict.values():\n",
    "    print(foods)"
   ]
  },
  {
   "cell_type": "code",
   "execution_count": null,
   "metadata": {
    "scrolled": true
   },
   "outputs": [],
   "source": [
    "# accessing a specific \n",
    "print(food_dict[\"Ryan\"])\n",
    "for food in food_dict[\"Ryan\"][\"Mexican\"]:\n",
    "    print(food)\n",
    "    \n",
    "for dessert in food_dict[\"Ryan\"][\"Desserts\"]:\n",
    "    print(dessert)\n",
    "        "
   ]
  },
  {
   "cell_type": "code",
   "execution_count": null,
   "metadata": {},
   "outputs": [],
   "source": [
    "# printing everyone's favorite foods\n",
    "print(\"Here are all of our favorite foods!\")\n",
    "for name in food_dict.keys():\n",
    "    print(f\"\\n{name}'s favorites foods are: \")\n",
    "    for food_type in food_dict[name].keys(): # food_dict[\"Ryan\"]\n",
    "        for food in food_dict[name][food_type]:# food_dict[\"Ryan\"][Mexican\"] / food_dict.............\n",
    "            print(food)"
   ]
  },
  {
   "cell_type": "markdown",
   "metadata": {},
   "source": [
    "## Dictionaries vs. Lists (over time) Example of RUNTIME\n",
    "### When inputting values in a Dictionary vs List"
   ]
  },
  {
   "cell_type": "code",
   "execution_count": null,
   "metadata": {},
   "outputs": [],
   "source": [
    "import time\n",
    "\n",
    "#generate dictionary\n",
    "\n",
    "    \n",
    "\n",
    "    \n",
    "\n"
   ]
  },
  {
   "cell_type": "code",
   "execution_count": null,
   "metadata": {},
   "outputs": [],
   "source": [
    "#track the time for the dictionary\n",
    "\n",
    "\n",
    "\n",
    "        "
   ]
  },
  {
   "cell_type": "markdown",
   "metadata": {},
   "source": [
    "## Exercise #3 - Write a Function that asks someone's name and address, and then stores that into a dictionary, and continues to do so until they choose to 'quit'. Once they quit, the program should print all names and addresses. <br>\n",
    "<p>\n",
    "<b>Proper steps:</b><br>\n",
    "step 1: write a function that takes in information and stores it in a dictionary<br>\n",
    "step 2: define an empty dictionary to work with<br>\n",
    "step 3: create our loop, which asks the user for information until they quit<br>\n",
    "step 4: ask for the information, and store it into variables<br>\n",
    "step 5: check if the user types quit<br>\n",
    "step 5a: print out all information<br>\n",
    "step 5b: break out of the loop<br>\n",
    "step 6: if they didn't quit, add the information to the dictionary<br>\n",
    "step 7: invoke the function by calling it\n",
    "</p>"
   ]
  },
  {
   "cell_type": "code",
   "execution_count": null,
   "metadata": {},
   "outputs": [],
   "source": [
    "from IPython.display import clear_output\n",
    "\n",
    "# step 1 work on functions tomorrow\n",
    "\n",
    "# step 2 \n",
    "d={}\n",
    "\n",
    "# step 3 While True will run until we hit a break condition\n",
    "while True:\n",
    "\n",
    "    # step 4\n",
    "    name = input(\"Enter a name or say 'quit' to quit\")\n",
    "    if name.strip().lower()!= 'quit':\n",
    "        address = input(\"Enter an address or say 'quit' to quit. \")\n",
    "    # step 5\n",
    "    if name.lower() == \"quit\" or address.lower() == \"quit\":\n",
    "        # Step 5a\n",
    "        for name, address in d.items():\n",
    "            print(f\"The address for {name} is {address}\")\n",
    "        break\n",
    "    # step 6                    \n",
    "    d[name] = address\n"
   ]
  },
  {
   "cell_type": "markdown",
   "metadata": {},
   "source": [
    "## Set <br>\n",
    "<p>A Set is an unordered collection data type that is iterable (loop), mutable, and has no duplicate elements.<br>Major advantage is that it is highly optimized in checking if something is in the set, as opposed to checking if something is in a list.</p>"
   ]
  },
  {
   "cell_type": "markdown",
   "metadata": {},
   "source": [
    "##### Declaring"
   ]
  },
  {
   "cell_type": "code",
   "execution_count": null,
   "metadata": {
    "scrolled": false
   },
   "outputs": [],
   "source": [
    "# set() or {}\n",
    "# no order {3, 2, 1} outputs as {1, 2, 3}\n",
    "my_set = set()\n",
    "nums = {4, 1, 8, 4}\n",
    "# removes duplicates\n",
    "print(nums)\n",
    "\n",
    "# print(nums[0]) gives error because you can't index into an unordered collection"
   ]
  },
  {
   "cell_type": "code",
   "execution_count": null,
   "metadata": {
    "scrolled": true
   },
   "outputs": [],
   "source": [
    "#remove all duplicates from the list\n",
    "my_list = [1,1,1,1,1,1,2,2,2,2,2,4,4,4,4,4,5,5,5,5,5,6,6,6,7,7,7,8,7,6,5,4,3,3,]\n",
    "\n",
    "remove_dups = set(my_list)\n",
    "print(remove_dups)\n",
    "\n",
    "my_list = list(remove_dups)\n",
    "\n",
    "print(my_list)\n",
    "# remove_dups = list(set(my_list))"
   ]
  },
  {
   "cell_type": "code",
   "execution_count": null,
   "metadata": {},
   "outputs": [],
   "source": [
    "string_set = {\"Hello\", \"Goodbye\", \"Hello\", 11, 11, 13, 15, 11, 23}\n",
    "print(string_set)"
   ]
  },
  {
   "cell_type": "markdown",
   "metadata": {},
   "source": [
    "##### .add()"
   ]
  },
  {
   "cell_type": "code",
   "execution_count": null,
   "metadata": {},
   "outputs": [],
   "source": [
    "# set.add()\n",
    "\n"
   ]
  },
  {
   "cell_type": "markdown",
   "metadata": {},
   "source": [
    "##### .remove()"
   ]
  },
  {
   "cell_type": "code",
   "execution_count": null,
   "metadata": {},
   "outputs": [],
   "source": [
    "# removes by value\n",
    "# set.remove()\n",
    "print(my_set)\n",
    "my_set.remove(\"hello\")\n",
    "print(my_set)\n"
   ]
  },
  {
   "cell_type": "markdown",
   "metadata": {},
   "source": [
    "##### .union() "
   ]
  },
  {
   "cell_type": "code",
   "execution_count": null,
   "metadata": {},
   "outputs": [],
   "source": [
    "# Returns a union of two sets, can also use '|' or set.union(set)\n",
    "# joins all numbers, gets rid of duplicates\n",
    "s1 = {1, 2, 3, 4}\n",
    "s2 = {5, 6, 7, 8}\n",
    "\n",
    "s3 = s1.union(s2) # order does not matter because we are just combinig two sets\n",
    "\n",
    "print(s3)\n",
    "\n",
    "s4 = s1 | s2\n",
    "print(s4)"
   ]
  },
  {
   "cell_type": "markdown",
   "metadata": {},
   "source": [
    "##### .intersection()"
   ]
  },
  {
   "cell_type": "code",
   "execution_count": null,
   "metadata": {},
   "outputs": [],
   "source": [
    "# Returns an intersection of two sets, can also use '&'\n",
    "# only takes similar elements from both sets\n",
    "s1 = {1,2,3,4}\n",
    "s2 = {3,4,5,6}\n",
    "\n",
    "s3 = s1.intersection(s2)\n",
    "\n",
    "print(s3)\n",
    "\n",
    "s4=s1&s2\n",
    "print(s4)"
   ]
  },
  {
   "cell_type": "markdown",
   "metadata": {},
   "source": [
    "##### .difference()"
   ]
  },
  {
   "cell_type": "code",
   "execution_count": null,
   "metadata": {},
   "outputs": [],
   "source": [
    "# Returns a set containing all the elements of invoking set that are not in the second set, can also use '-'\n",
    "# only takes values from the first set that are not in the second set\n",
    "# order matters\n",
    "s1= {1,2,3,4}\n",
    "s2= {3,4,5,6}\n",
    "s3 = s1.difference(s2)\n",
    "print(s3)\n",
    "\n",
    "s4=s2-s1\n",
    "print(s4)"
   ]
  },
  {
   "cell_type": "markdown",
   "metadata": {},
   "source": [
    "##### .clear()"
   ]
  },
  {
   "cell_type": "code",
   "execution_count": null,
   "metadata": {},
   "outputs": [],
   "source": [
    "# Empties the whole set\n",
    "# set.clear()\n",
    "s1={1,2,3,4,5,6}\n",
    "print(s1)\n",
    "\n",
    "s1.clear()\n",
    "print(s1)"
   ]
  },
  {
   "cell_type": "markdown",
   "metadata": {},
   "source": [
    "##### Frozenset <br>\n",
    "<p>Frozen sets are immutable objects that only support methods and operators that produce a result without affecting the frozen set or sets to which they are applied.</p><br><b>Unique & Immutable</b>"
   ]
  },
  {
   "cell_type": "code",
   "execution_count": 1,
   "metadata": {},
   "outputs": [
    {
     "name": "stdout",
     "output_type": "stream",
     "text": [
      "{1, 2, 3, 4, 'Hello', 'my dog is cool'}\n",
      "frozenset({1, 2, 3, 4, 'Hello', 'my dog is cool'})\n",
      "{1, 2, 3, 4, 'Hello', 'my dog is cool'}\n",
      "{'cool beans', 1, 2, 3, 4, 'Hello', 'my dog is cool'}\n"
     ]
    }
   ],
   "source": [
    "# frozenset([])\n",
    "my_set = {1,2,3,4,\"Hello\", \"my dog is cool\"}\n",
    "print(my_set)\n",
    "\n",
    "frozen_set = frozenset(my_set)\n",
    "print(frozen_set)\n",
    "\n",
    "#frozen_set.add(65)\n",
    "#frozen_set.remove(4)\n",
    "\n",
    "my_new_set = set(frozen_set)\n",
    "print(my_new_set)\n",
    "\n",
    "my_new_set.add(\"cool beans\")\n",
    "print(my_new_set)"
   ]
  },
  {
   "cell_type": "markdown",
   "metadata": {},
   "source": [
    "# Exercises"
   ]
  },
  {
   "cell_type": "markdown",
   "metadata": {},
   "source": [
    "### 1) Build a Shopping Cart <br>\n",
    "<p><b>You can use either lists or dictionaries. The program should have the following capabilities:</b><br><br>\n",
    "1) Takes in input <br>\n",
    "2) Stores user input into a dictionary or list <br>\n",
    "3) The User can add or delete items <br>\n",
    "4) The User can see current shopping list <br>\n",
    "5) The program Loops until user 'quits' <br>\n",
    "6) Upon quiting the program, print out all items in the user's list <br>\n",
    "</p>"
   ]
  },
  {
   "cell_type": "code",
   "execution_count": 2,
   "metadata": {},
   "outputs": [
    {
     "name": "stdout",
     "output_type": "stream",
     "text": [
      "Please provide a name for this order? Liz\n",
      "Would you like to start Shopping? Select Y or N y\n",
      "What items would you like to add to your carrito? Bread\n",
      "Would you like to add more items? Select Y or N y\n",
      "What item would you like to add? Bananas\n",
      "Would you like to remove an item? y\n",
      "Sorry we are unable to find that item\n",
      "Show item(s) in your Carrito? Select Y or N y\n",
      "['Bread', 'Bread']\n",
      "Let's check out!\n"
     ]
    }
   ],
   "source": [
    "from IPython.display import clear_output\n",
    "\n",
    "def carrito():\n",
    "    lst = []\n",
    "    customer_name = input('Please provide a name for this order? ').title()\n",
    "    customers_lst = customer_name\n",
    "    while True:\n",
    "        response = input('Would you like to start Shopping? Select Y or N ').lower()\n",
    "        if response == 'n':\n",
    "            break\n",
    "        items = input('What items would you like to add to your carrito? ')\n",
    "        lst.append(items)\n",
    "        if items == 'quit':\n",
    "            break\n",
    "        add = input('Would you like to add more items? Select Y or N ').lower()\n",
    "        if add == 'y':\n",
    "            add = input('What item would you like to add? ')\n",
    "        lst.append(items)\n",
    "        if add == 'quit':\n",
    "            break\n",
    "\n",
    "        delete = input('Would you like to remove an item? ')\n",
    "        if delete in lst:\n",
    "            lst.remove(delete)\n",
    "        else:\n",
    "            print('Sorry we are unable to find that item')\n",
    "\n",
    "        show = input('Show item(s) in your Carrito? Select Y or N ')\n",
    "        if show =='n':\n",
    "                       #switch to \"\"\n",
    "            print(\"Let's check out!\")\n",
    "            break\n",
    "        if show =='y':\n",
    "            print(lst)\n",
    "                       #switch to \"\"\n",
    "            print(\"Let's check out!\")   \n",
    "            break\n",
    "            \n",
    "carrito()\n",
    "\n",
    "# I still have to fix some issues: for response: specify only Y or N option/option to continue adding muliple items/list show/deleting options\n",
    "# and then probably more things will pop up."
   ]
  },
  {
   "cell_type": "markdown",
   "metadata": {},
   "source": [
    "### 2) Set Practice"
   ]
  },
  {
   "cell_type": "markdown",
   "metadata": {},
   "source": [
    "<p><b>Remove all duplicates from the following list</b></p>"
   ]
  },
  {
   "cell_type": "code",
   "execution_count": null,
   "metadata": {},
   "outputs": [],
   "source": [
    "nums_list = [1, 1, 1, 2, 2, 3, 5, 6, 4, 12, 11, 12, 12, 14, 16, 16, 16, 1, 1, 1, 2, 2]"
   ]
  },
  {
   "cell_type": "markdown",
   "metadata": {},
   "source": [
    "<p><b>Out put the intersection of the following the following sets.</b></p>"
   ]
  },
  {
   "cell_type": "code",
   "execution_count": null,
   "metadata": {},
   "outputs": [],
   "source": [
    "set1 = {20, 24, 26, 27}\n",
    "set2 = {26, 35, 63, 27}"
   ]
  },
  {
   "cell_type": "markdown",
   "metadata": {},
   "source": [
    "<p><b>Output the difference between the following sets</b></p>"
   ]
  },
  {
   "cell_type": "code",
   "execution_count": null,
   "metadata": {},
   "outputs": [],
   "source": [
    "set3 = {100, 65, 89, 200}\n",
    "set4 = {65, 103, 54, 200}\n",
    "carrito = {}\n",
    "\n"
   ]
  }
 ],
 "metadata": {
  "kernelspec": {
   "display_name": "Python 3 (ipykernel)",
   "language": "python",
   "name": "python3"
  },
  "language_info": {
   "codemirror_mode": {
    "name": "ipython",
    "version": 3
   },
   "file_extension": ".py",
   "mimetype": "text/x-python",
   "name": "python",
   "nbconvert_exporter": "python",
   "pygments_lexer": "ipython3",
   "version": "3.11.4"
  }
 },
 "nbformat": 4,
 "nbformat_minor": 2
}
